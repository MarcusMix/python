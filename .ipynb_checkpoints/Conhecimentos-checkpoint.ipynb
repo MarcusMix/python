{
 "cells": [
  {
   "cell_type": "code",
   "execution_count": 44,
   "id": "9fe9a3ae",
   "metadata": {},
   "outputs": [
    {
     "name": "stdout",
     "output_type": "stream",
     "text": [
      "[1, 2, 4, 5] ['caio', 'milena', '4', 'john']\n",
      "(1, 2, 3, 5) ('milena', 'joao', 'pedro')\n",
      "{'index': 'valor', 1: 'Marcus', 2: 'Milena', 'Lista': ['caio', 'milena', '4', 'john']}\n"
     ]
    }
   ],
   "source": [
    "# Listas, Tuplas e Dicionários\n",
    "\n",
    "#Lista = Array\n",
    "lista_ex = [1, 2, 4, 5]\n",
    "lista_ex_2 = ['caio', 'milena', '4', 'john']\n",
    "\n",
    "print(lista_ex, lista_ex_2)\n",
    "\n",
    "#Tuplas são imutáveis\n",
    "tupla_ex = (1, 2, 3, 5)\n",
    "tupla_ex_2 = ('milena', 'joao', 'pedro')\n",
    "\n",
    "print(tupla_ex, tupla_ex_2)\n",
    "\n",
    "#Dicionarios = Objeto\n",
    "dicionario = {\n",
    "    'index' : 'valor',\n",
    "    1 : 'Marcus',\n",
    "    2 : 'Milena',\n",
    "    'Lista' : lista_ex_2\n",
    "}\n",
    "\n",
    "print(dicionario)"
   ]
  },
  {
   "cell_type": "code",
   "execution_count": 47,
   "id": "2dad5ab7",
   "metadata": {},
   "outputs": [
    {
     "data": {
      "text/plain": [
       "200.0"
      ]
     },
     "execution_count": 47,
     "metadata": {},
     "output_type": "execute_result"
    }
   ],
   "source": [
    "investimento = 1000\n",
    "taxa_juros = float('0.2')\n",
    "\n",
    "investimento * taxa_juros"
   ]
  },
  {
   "cell_type": "code",
   "execution_count": 52,
   "id": "751bcebd",
   "metadata": {},
   "outputs": [
    {
     "name": "stdout",
     "output_type": "stream",
     "text": [
      "2023-08-28 2023-08-28 13:41:38.208373\n"
     ]
    }
   ],
   "source": [
    "from datetime import datetime\n",
    "data = datetime.today().date()\n",
    "hora = datetime.today()\n",
    "print(data, hora)"
   ]
  },
  {
   "cell_type": "code",
   "execution_count": 54,
   "id": "032dc359",
   "metadata": {},
   "outputs": [
    {
     "data": {
      "text/plain": [
       "93198.99844"
      ]
     },
     "execution_count": 54,
     "metadata": {},
     "output_type": "execute_result"
    }
   ],
   "source": [
    "valor = 93198.99843894738\n",
    "round(valor, 5)"
   ]
  },
  {
   "cell_type": "code",
   "execution_count": 62,
   "id": "540296ff",
   "metadata": {},
   "outputs": [
    {
     "data": {
      "text/plain": [
       "'r'"
      ]
     },
     "execution_count": 62,
     "metadata": {},
     "output_type": "execute_result"
    }
   ],
   "source": [
    "nome = 'marcus'\n",
    "nome[2]"
   ]
  },
  {
   "cell_type": "code",
   "execution_count": 67,
   "id": "0190b363",
   "metadata": {},
   "outputs": [
    {
     "data": {
      "text/plain": [
       "'12346624121'"
      ]
     },
     "execution_count": 67,
     "metadata": {},
     "output_type": "execute_result"
    }
   ],
   "source": [
    "nome_completo = 'Marcus Vinicius'\n",
    "nome_completo[0:7]\n",
    "\n",
    "cpf = 'CPF:12346624121'\n",
    "\n",
    "cpf[-11:]"
   ]
  },
  {
   "cell_type": "code",
   "execution_count": null,
   "id": "9ba3dc52",
   "metadata": {},
   "outputs": [],
   "source": []
  }
 ],
 "metadata": {
  "kernelspec": {
   "display_name": "Python 3 (ipykernel)",
   "language": "python",
   "name": "python3"
  },
  "language_info": {
   "codemirror_mode": {
    "name": "ipython",
    "version": 3
   },
   "file_extension": ".py",
   "mimetype": "text/x-python",
   "name": "python",
   "nbconvert_exporter": "python",
   "pygments_lexer": "ipython3",
   "version": "3.11.3"
  }
 },
 "nbformat": 4,
 "nbformat_minor": 5
}
