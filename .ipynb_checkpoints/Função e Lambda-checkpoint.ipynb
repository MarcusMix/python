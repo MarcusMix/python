{
 "cells": [
  {
   "cell_type": "code",
   "execution_count": 1,
   "id": "b0e68e9a",
   "metadata": {},
   "outputs": [
    {
     "name": "stdout",
     "output_type": "stream",
     "text": [
      "funcao teste foi chamada\n"
     ]
    }
   ],
   "source": [
    "def funcao_teste():\n",
    "    print(\"funcao teste foi chamada\")\n",
    "    \n",
    "funcao_teste()"
   ]
  },
  {
   "cell_type": "code",
   "execution_count": 12,
   "id": "5a30c358",
   "metadata": {},
   "outputs": [
    {
     "name": "stdout",
     "output_type": "stream",
     "text": [
      "180\n"
     ]
    }
   ],
   "source": [
    "import random as rd\n",
    "\n",
    "def somar(valor1, valor2):\n",
    "    soma = (valor1 + valor2)\n",
    "    print(soma)\n",
    "\n",
    "'''\n",
    "for x in range(10):\n",
    "    x = rd.randrange(1, 10)\n",
    "    y = rd.randrange(1, 10)\n",
    "    somar(x, y)\n",
    "'''\n",
    "\n",
    "    \n",
    "def mult(valor1, valor2):\n",
    "    multiplicar = valor1 * valor2\n",
    "    print(multiplicar)\n",
    "    \n",
    "mult(2, 90)"
   ]
  },
  {
   "cell_type": "code",
   "execution_count": 16,
   "id": "040b7deb",
   "metadata": {},
   "outputs": [
    {
     "data": {
      "text/plain": [
       "'verdadeiro'"
      ]
     },
     "execution_count": 16,
     "metadata": {},
     "output_type": "execute_result"
    }
   ],
   "source": [
    "#funcao lambda\n",
    "#funcao anonima\n",
    "\n",
    "funcao_soma = lambda valor: valor + 10\n",
    "\n",
    "funcao_soma(100)\n",
    "\n",
    "funcao_mult = lambda valor1, valor2: valor1 * valor2\n",
    "\n",
    "funcao_mult(10, 4)\n",
    "\n",
    "exemplo = lambda valor : 'verdadeiro' if valor % 2 == 0 else 'falso'\n",
    "exemplo(4)"
   ]
  }
 ],
 "metadata": {
  "kernelspec": {
   "display_name": "Python 3 (ipykernel)",
   "language": "python",
   "name": "python3"
  },
  "language_info": {
   "codemirror_mode": {
    "name": "ipython",
    "version": 3
   },
   "file_extension": ".py",
   "mimetype": "text/x-python",
   "name": "python",
   "nbconvert_exporter": "python",
   "pygments_lexer": "ipython3",
   "version": "3.11.3"
  }
 },
 "nbformat": 4,
 "nbformat_minor": 5
}
