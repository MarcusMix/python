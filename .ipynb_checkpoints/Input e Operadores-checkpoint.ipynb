{
 "cells": [
  {
   "cell_type": "code",
   "execution_count": 24,
   "id": "a12a7668",
   "metadata": {},
   "outputs": [
    {
     "data": {
      "text/plain": [
       "True"
      ]
     },
     "execution_count": 24,
     "metadata": {},
     "output_type": "execute_result"
    }
   ],
   "source": [
    "#comando Input\n",
    "\n",
    "# nome = input('Qual seu nome?')\n",
    "# idade = input(\"Qual sua idade?\")\n",
    "\n",
    "# print('Nome: ' , nome + '\\nIdade: ' + idade)\n",
    "\n",
    "#operadores lógicos\n",
    "10 > 2 and 10 > 3\n",
    "10 > 3 or 10 < 10\n",
    "\n",
    "lista = [1, 2, 4, 6]\n",
    "\n",
    "2 not in lista\n",
    "\n",
    "#operadores identidade\n",
    "\n",
    "string1 = 'ola mundo'\n",
    "string2 = 'ola world'\n",
    "\n",
    "type(string1) == type(string2)\n",
    "type(string1) is type(string2)\n",
    "\n",
    "#operadores de associação\n",
    "lista_acoes = ['magalu', 'b3', 'nubr']\n",
    "\n",
    "'magalu' in lista_acoes\n",
    "'via' in lista_acoes\n",
    "\n",
    "'b3' not in lista_acoes\n",
    "'klabin' not in lista_acoes\n",
    "\n"
   ]
  }
 ],
 "metadata": {
  "kernelspec": {
   "display_name": "Python 3 (ipykernel)",
   "language": "python",
   "name": "python3"
  },
  "language_info": {
   "codemirror_mode": {
    "name": "ipython",
    "version": 3
   },
   "file_extension": ".py",
   "mimetype": "text/x-python",
   "name": "python",
   "nbconvert_exporter": "python",
   "pygments_lexer": "ipython3",
   "version": "3.11.3"
  }
 },
 "nbformat": 4,
 "nbformat_minor": 5
}
