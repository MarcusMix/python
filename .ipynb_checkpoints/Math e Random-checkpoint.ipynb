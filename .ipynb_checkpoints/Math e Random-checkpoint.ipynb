{
 "cells": [
  {
   "cell_type": "code",
   "execution_count": 11,
   "id": "dc133f94",
   "metadata": {},
   "outputs": [
    {
     "data": {
      "text/plain": [
       "3.141592653589793"
      ]
     },
     "execution_count": 11,
     "metadata": {},
     "output_type": "execute_result"
    }
   ],
   "source": [
    "import math\n",
    "\n",
    "tupla = (1, 2, 9, 90)\n",
    "\n",
    "max(tupla)\n",
    "min(tupla)\n",
    "\n",
    "#numero absoluto\n",
    "abs(-9)\n",
    "\n",
    "#elevado\n",
    "pow(3, 5)\n",
    "\n",
    "#raiz quadrada\n",
    "math.sqrt(81)\n",
    "\n",
    "#arredondar para cima\n",
    "math.ceil(1.2)\n",
    "\n",
    "#arredondar para baixo\n",
    "math.floor(1.9)\n",
    "\n",
    "math.pi\n",
    "\n",
    "math."
   ]
  },
  {
   "cell_type": "code",
   "execution_count": 90,
   "id": "8d48ef09",
   "metadata": {},
   "outputs": [
    {
     "data": {
      "text/plain": [
       "'r'"
      ]
     },
     "execution_count": 90,
     "metadata": {},
     "output_type": "execute_result"
    }
   ],
   "source": [
    "import random\n",
    "\n",
    "lista = [1, 2, 3, 4, 5]\n",
    "\n",
    "#valores aleatorios da lista\n",
    "random.choice(lista)\n",
    "\n",
    "#letras aleatorias string\n",
    "nome = 'marcus'\n",
    "random.choice(nome)\n",
    "\n",
    "#valores aleatorios entre 0 e 10\n",
    "random.randint(0, 10)"
   ]
  }
 ],
 "metadata": {
  "kernelspec": {
   "display_name": "Python 3 (ipykernel)",
   "language": "python",
   "name": "python3"
  },
  "language_info": {
   "codemirror_mode": {
    "name": "ipython",
    "version": 3
   },
   "file_extension": ".py",
   "mimetype": "text/x-python",
   "name": "python",
   "nbconvert_exporter": "python",
   "pygments_lexer": "ipython3",
   "version": "3.11.3"
  }
 },
 "nbformat": 4,
 "nbformat_minor": 5
}
