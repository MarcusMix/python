{
 "cells": [
  {
   "cell_type": "code",
   "execution_count": 28,
   "id": "bc988fdb",
   "metadata": {},
   "outputs": [
    {
     "name": "stdout",
     "output_type": "stream",
     "text": [
      "[2, 'milena', 'marcus'] milena marcus\n",
      "[2, 'milena', 'marcus']\n",
      "['carlos', 'pedro', 2, 'milena', 'marcus']\n",
      "['carlos', 'pedro', 2, 'milena', 'marcus', 1, 2, 3, 5]\n",
      "['carlos', 'pedro', 2, 'milena', 'marcus', 1, 2, 3]\n",
      "['carlos', 'pedro', 2, 'milena', 'marcus', 1, 2]\n",
      "['a', 'o', 'w', 'z']\n",
      "['z', 'w', 'o', 'a']\n",
      "['z', 'w', 'o', 'a']\n"
     ]
    },
    {
     "data": {
      "text/plain": [
       "3"
      ]
     },
     "execution_count": 28,
     "metadata": {},
     "output_type": "execute_result"
    }
   ],
   "source": [
    "lista = []\n",
    "\n",
    "#adicionar items na lista\n",
    "lista.append(2)\n",
    "lista.append('milena')\n",
    "lista.append('marcus')\n",
    "\n",
    "print(lista, lista[1], lista[-1])\n",
    "\n",
    "#limpar a lista\n",
    "#lista.clear()\n",
    "print(lista)\n",
    "\n",
    "#adicionar items em posição específica\n",
    "lista.insert(0, 'carlos')\n",
    "lista.insert(1, 'pedro')\n",
    "print(lista)\n",
    "\n",
    "#adicionar lista dentro de outra lista\n",
    "lista_ex = [1, 2, 3, 5]\n",
    "lista.extend(lista_ex)\n",
    "print(lista)\n",
    "\n",
    "#remover elemento específico\n",
    "lista.remove(5)\n",
    "print(lista)\n",
    "\n",
    "#remover elemento pelo index\n",
    "lista.pop(-1)\n",
    "print(lista)\n",
    "\n",
    "#de A a Z\n",
    "lista_abc = ['a', 'z' ,'w', 'o']\n",
    "lista_abc.sort()\n",
    "print(lista_abc)\n",
    "\n",
    "#de Z a A\n",
    "lista_abc.sort(reverse=True)\n",
    "print(lista_abc)\n",
    "\n",
    "#copiar uma lista na outra\n",
    "lista_nova = lista_abc.copy()\n",
    "print(lista_nova)\n",
    "\n",
    "#identificar index de um item\n",
    "lista_nova.index('a')"
   ]
  }
 ],
 "metadata": {
  "kernelspec": {
   "display_name": "Python 3 (ipykernel)",
   "language": "python",
   "name": "python3"
  },
  "language_info": {
   "codemirror_mode": {
    "name": "ipython",
    "version": 3
   },
   "file_extension": ".py",
   "mimetype": "text/x-python",
   "name": "python",
   "nbconvert_exporter": "python",
   "pygments_lexer": "ipython3",
   "version": "3.11.3"
  }
 },
 "nbformat": 4,
 "nbformat_minor": 5
}
