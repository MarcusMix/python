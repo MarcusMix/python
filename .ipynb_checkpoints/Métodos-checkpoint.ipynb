{
 "cells": [
  {
   "cell_type": "code",
   "execution_count": 31,
   "id": "e7c37152",
   "metadata": {},
   "outputs": [
    {
     "data": {
      "text/plain": [
       "['josé mendes', ' florianópolis', ' santa catarina', ' Brasil']"
      ]
     },
     "execution_count": 31,
     "metadata": {},
     "output_type": "execute_result"
    }
   ],
   "source": [
    "string = 'Olá mundo'\n",
    "\n",
    "#tamanho\n",
    "len(string)\n",
    "\n",
    "#tipo\n",
    "type(string)\n",
    "\n",
    "#trocar\n",
    "string.replace('mundo', 'world')\n",
    "\n",
    "cpf = 'cpf:1229928383'\n",
    "\n",
    "cpf.replace('cpf:' , '')\n",
    "\n",
    "#começa com\n",
    "string.startswith('o')\n",
    "string.startswith('O')\n",
    "\n",
    "#termina com\n",
    "string.endswith('?')\n",
    "string.endswith\n",
    "\n",
    "#contar palavras ou letras\n",
    "string.count('o')\n",
    "\n",
    "#trasformar textos\n",
    "nome = 'marcus sandi'\n",
    "\n",
    "nome.capitalize()\n",
    "\n",
    "#verificar se existe dígitos\n",
    "cpf_marcus = '9879876987'\n",
    "cpf_alguem = '9879876aa987'\n",
    "cpf_marcus.isdigit()\n",
    "cpf_alguem.isdigit()\n",
    "\n",
    "#verifica se é alpha numérico\n",
    "string.isalnum()\n",
    "\n",
    "#transformar GRANDE\n",
    "string.upper()\n",
    "\n",
    "#transformar minusculo\n",
    "\n",
    "string.lower()\n",
    "\n",
    "#procurar index \n",
    "string.find('mundo')\n",
    "\n",
    "#remover espaços ARRUMAR\n",
    "endereco = ' r josé maria   da luz   98'\n",
    "endereco.strip()\n",
    "\n",
    "#quebrar string\n",
    "palavra = 'josé mendes, florianópolis, santa catarina, Brasil'\n",
    "palavra.split(',')"
   ]
  },
  {
   "cell_type": "code",
   "execution_count": null,
   "id": "13672f53",
   "metadata": {},
   "outputs": [],
   "source": []
  }
 ],
 "metadata": {
  "kernelspec": {
   "display_name": "Python 3 (ipykernel)",
   "language": "python",
   "name": "python3"
  },
  "language_info": {
   "codemirror_mode": {
    "name": "ipython",
    "version": 3
   },
   "file_extension": ".py",
   "mimetype": "text/x-python",
   "name": "python",
   "nbconvert_exporter": "python",
   "pygments_lexer": "ipython3",
   "version": "3.11.3"
  }
 },
 "nbformat": 4,
 "nbformat_minor": 5
}
