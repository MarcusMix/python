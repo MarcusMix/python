{
 "cells": [
  {
   "cell_type": "code",
   "execution_count": 6,
   "id": "aabf481a",
   "metadata": {},
   "outputs": [
    {
     "data": {
      "text/plain": [
       "2"
      ]
     },
     "execution_count": 6,
     "metadata": {},
     "output_type": "execute_result"
    }
   ],
   "source": [
    "import statistics as st\n",
    "\n",
    "lista = [1, 98, 86, 2, 7687, 2]\n",
    "\n",
    "#calcular média\n",
    "st.mean(lista)\n",
    "\n",
    "#pegar mediana\n",
    "st.median(lista)\n",
    "\n",
    "#pegar moda\n",
    "st.mode(lista)"
   ]
  }
 ],
 "metadata": {
  "kernelspec": {
   "display_name": "Python 3 (ipykernel)",
   "language": "python",
   "name": "python3"
  },
  "language_info": {
   "codemirror_mode": {
    "name": "ipython",
    "version": 3
   },
   "file_extension": ".py",
   "mimetype": "text/x-python",
   "name": "python",
   "nbconvert_exporter": "python",
   "pygments_lexer": "ipython3",
   "version": "3.11.3"
  }
 },
 "nbformat": 4,
 "nbformat_minor": 5
}
