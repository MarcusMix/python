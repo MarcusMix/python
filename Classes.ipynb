{
 "cells": [
  {
   "cell_type": "code",
   "execution_count": 4,
   "id": "5c85d6c4",
   "metadata": {},
   "outputs": [
    {
     "name": "stdout",
     "output_type": "stream",
     "text": [
      "Usuário menor de idade\n",
      "Seu acesso foi negado! Marcus\n"
     ]
    }
   ],
   "source": [
    "class Pessoa:\n",
    "    \n",
    "    def __init__(self, nome, idade):\n",
    "        self.nome = nome\n",
    "        self.idade = idade\n",
    "        \n",
    "    def boas_vindas(self):\n",
    "        print(\"Bem vindo \" + self.nome + \"!!\")\n",
    "        \n",
    "    def recusado(self):\n",
    "        print(\"Seu acesso foi negado! \" + self.nome)\n",
    "     \n",
    "    #função\n",
    "    def maior_idade(self):\n",
    "        if self.idade > 18:\n",
    "            print(\"Usuário maior de idade\")\n",
    "            self.boas_vindas()\n",
    "        else:\n",
    "            print(\"Usuário menor de idade\")\n",
    "            self.recusado()\n",
    "            \n",
    "pessoa = Pessoa('Marcus', 11)\n",
    "pessoa.maior_idade()\n"
   ]
  }
 ],
 "metadata": {
  "kernelspec": {
   "display_name": "Python 3 (ipykernel)",
   "language": "python",
   "name": "python3"
  },
  "language_info": {
   "codemirror_mode": {
    "name": "ipython",
    "version": 3
   },
   "file_extension": ".py",
   "mimetype": "text/x-python",
   "name": "python",
   "nbconvert_exporter": "python",
   "pygments_lexer": "ipython3",
   "version": "3.11.3"
  }
 },
 "nbformat": 4,
 "nbformat_minor": 5
}
