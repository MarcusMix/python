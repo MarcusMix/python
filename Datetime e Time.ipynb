{
 "cells": [
  {
   "cell_type": "code",
   "execution_count": 23,
   "id": "2e710c62",
   "metadata": {},
   "outputs": [
    {
     "name": "stdout",
     "output_type": "stream",
     "text": [
      "2023-08-28 14:49:29.160379 2023-08-28\n",
      "2023 8 28\n",
      "28/08/2023 28/08/23\n",
      "3 days, 0:00:00\n"
     ]
    }
   ],
   "source": [
    "import datetime as dt\n",
    "\n",
    "hoje = dt.datetime.today()\n",
    "data = dt.datetime.today().date()\n",
    "print(hoje, data)\n",
    "\n",
    "ano = data.year\n",
    "mes = data.month\n",
    "dia = data.day\n",
    "\n",
    "\n",
    "print(ano, mes, dia)\n",
    "\n",
    "data_antiga = dt.date(2022, 1, 1)\n",
    "type(data_antiga)\n",
    "\n",
    "data - data_antiga\n",
    "\n",
    "#converter data\n",
    "data.strftime('%d/%m/%Y')\n",
    "data.strftime('%d/%m/%Y')\n",
    "print(data.strftime('%d/%m/%Y'), data.strftime('%d/%m/%y'))\n",
    "\n",
    "#somar datas\n",
    "\n",
    "data = dt.timedelta(days=3)\n",
    "print(data)\n"
   ]
  },
  {
   "cell_type": "code",
   "execution_count": 24,
   "id": "8b13a8a6",
   "metadata": {},
   "outputs": [
    {
     "name": "stdout",
     "output_type": "stream",
     "text": [
      "começou...\n",
      "foi\n"
     ]
    }
   ],
   "source": [
    "import time\n",
    "\n",
    "print('começou...')\n",
    "time.sleep(3)\n",
    "print('foi')"
   ]
  }
 ],
 "metadata": {
  "kernelspec": {
   "display_name": "Python 3 (ipykernel)",
   "language": "python",
   "name": "python3"
  },
  "language_info": {
   "codemirror_mode": {
    "name": "ipython",
    "version": 3
   },
   "file_extension": ".py",
   "mimetype": "text/x-python",
   "name": "python",
   "nbconvert_exporter": "python",
   "pygments_lexer": "ipython3",
   "version": "3.11.3"
  }
 },
 "nbformat": 4,
 "nbformat_minor": 5
}
