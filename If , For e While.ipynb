{
 "cells": [
  {
   "cell_type": "code",
   "execution_count": 3,
   "id": "320f78c3",
   "metadata": {},
   "outputs": [
    {
     "name": "stdout",
     "output_type": "stream",
     "text": [
      "Papai e Mamãe responsável\n"
     ]
    }
   ],
   "source": [
    "idade = 16\n",
    "\n",
    "if idade >= 18:\n",
    "    print('Maior de idade')\n",
    "\n",
    "elif idade >=15 and idade < 17:\n",
    "    print('Papai e Mamãe responsável')\n",
    "    \n",
    "else:\n",
    "    print(\"Menor de idade\")\n",
    "    "
   ]
  },
  {
   "cell_type": "code",
   "execution_count": 9,
   "id": "3da18161",
   "metadata": {},
   "outputs": [
    {
     "name": "stdout",
     "output_type": "stream",
     "text": [
      "2\n",
      "7\n",
      "12\n",
      "17\n",
      "22\n",
      "27\n",
      "32\n",
      "37\n",
      "42\n",
      "47\n",
      "52\n",
      "57\n",
      "62\n",
      "67\n",
      "72\n",
      "77\n",
      "82\n",
      "87\n",
      "92\n",
      "97\n"
     ]
    }
   ],
   "source": [
    "for x in range(2, 100, 5):\n",
    "    print(x)\n",
    "#x pode ser qualquer valor"
   ]
  },
  {
   "cell_type": "code",
   "execution_count": 15,
   "id": "f5d2b159",
   "metadata": {},
   "outputs": [
    {
     "name": "stdout",
     "output_type": "stream",
     "text": [
      "BRASIL\n",
      "VENEZUELA\n",
      "COREIA DO SUL\n",
      "JAPAO\n"
     ]
    }
   ],
   "source": [
    "lista = ['brasil', 'venezuela', 'coreia do sul', 'japao']\n",
    "\n",
    "for pais in lista:\n",
    "    print(pais.upper())"
   ]
  },
  {
   "cell_type": "code",
   "execution_count": null,
   "id": "8aa6da22",
   "metadata": {},
   "outputs": [],
   "source": [
    "lista = ['brasil', 'venezuela', 'coreia do sul', 'japao']\n",
    "\n",
    "for pais in lista:\n",
    "    if pais == 'uruguai':\n",
    "        print('BI campeão mundial')\n",
    "    elif pais == 'brasil':\n",
    "        print('tetra campeão mundial')\n",
    "    print(pais.upper())"
   ]
  },
  {
   "cell_type": "code",
   "execution_count": 27,
   "id": "a7b40416",
   "metadata": {},
   "outputs": [
    {
     "name": "stdout",
     "output_type": "stream",
     "text": [
      "brasil\n",
      "venezuela\n",
      "coreia do sul\n",
      "japao\n",
      "uruguai\n",
      "china\n"
     ]
    }
   ],
   "source": [
    "lista = ['brasil', 'venezuela', 'coreia do sul', 'japao', 'uruguai', 'china']\n",
    "for i in range(len(lista)):\n",
    "    print(lista[i])"
   ]
  },
  {
   "cell_type": "code",
   "execution_count": 44,
   "id": "f1f707de",
   "metadata": {},
   "outputs": [
    {
     "name": "stdout",
     "output_type": "stream",
     "text": [
      "0 brasil\n",
      "1 venezuela\n",
      "2 coreia do sul\n",
      "3 japao\n",
      "4 uruguai\n",
      "5 china\n",
      "0 brasil\n",
      "1 venezuela\n",
      "2 coreia do sul\n",
      "3 japao\n",
      "4 uruguai\n",
      "5 china\n"
     ]
    }
   ],
   "source": [
    "x = 0\n",
    "\n",
    "for index, pais in enumerate(lista):\n",
    "    print(index, pais)\n",
    "\n",
    "\n",
    "for pais in lista:\n",
    "    print(x, pais)\n",
    "    x += 1"
   ]
  },
  {
   "cell_type": "code",
   "execution_count": 49,
   "id": "716d5261",
   "metadata": {},
   "outputs": [
    {
     "name": "stdout",
     "output_type": "stream",
     "text": [
      "[0, 1, 2, 3, 4, 5, 6, 7, 8, 9]\n",
      "lista:  [0, 1, 2, 3, 4, 5, 6, 7, 8, 9]\n"
     ]
    }
   ],
   "source": [
    "numeros = [numero for numero in range(10)]\n",
    "print(numeros)\n",
    "\n",
    "lista = []\n",
    "\n",
    "for x in range(10):\n",
    "    lista.append(x)\n",
    "    \n",
    "print(\"lista: \" , lista)"
   ]
  },
  {
   "cell_type": "code",
   "execution_count": 58,
   "id": "bd852e46",
   "metadata": {},
   "outputs": [
    {
     "name": "stdout",
     "output_type": "stream",
     "text": [
      "0.6183651064006943\n",
      "0.6472589291994448\n",
      "0.5217998439971803\n",
      "0.9323431054128178\n",
      "0.732241267825347\n",
      "0.23182277555901376\n",
      "0.00643533948065711\n",
      "0.9336062163066168\n",
      "0.8169345228629815\n",
      "0.03383311398880651\n"
     ]
    }
   ],
   "source": [
    "import random\n",
    "parar = 0\n",
    "while parar < 10:\n",
    "    print(random.random())\n",
    "    parar += 1"
   ]
  },
  {
   "cell_type": "code",
   "execution_count": 59,
   "id": "2405aaeb",
   "metadata": {},
   "outputs": [
    {
     "name": "stdout",
     "output_type": "stream",
     "text": [
      "0\n",
      "1\n",
      "2\n",
      "3\n",
      "4\n",
      "6\n",
      "7\n",
      "8\n",
      "9\n",
      "10\n"
     ]
    }
   ],
   "source": [
    "#usado para possíveis erros.\n",
    "for i in range(0, 11):\n",
    "    if i == 5:\n",
    "        continue\n",
    "        print('essa parte será ignorada')\n",
    "    print(i)"
   ]
  }
 ],
 "metadata": {
  "kernelspec": {
   "display_name": "Python 3 (ipykernel)",
   "language": "python",
   "name": "python3"
  },
  "language_info": {
   "codemirror_mode": {
    "name": "ipython",
    "version": 3
   },
   "file_extension": ".py",
   "mimetype": "text/x-python",
   "name": "python",
   "nbconvert_exporter": "python",
   "pygments_lexer": "ipython3",
   "version": "3.11.3"
  }
 },
 "nbformat": 4,
 "nbformat_minor": 5
}
